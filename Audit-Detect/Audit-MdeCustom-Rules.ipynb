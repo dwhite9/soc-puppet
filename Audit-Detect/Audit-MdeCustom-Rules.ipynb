{
 "cells": [
  {
   "cell_type": "code",
   "execution_count": null,
   "metadata": {
    "collapsed": true,
    "pycharm": {
     "name": "#%%\n"
    }
   },
   "outputs": [],
   "source": [
    "import os\n",
    "import pandas as pd\n",
    "from datetime import datetime\n",
    "\n",
    "pd.set_option('display.max_columns', None)\n",
    "pd.set_option('display.max_rows', None)\n",
    "pd.set_option('display.max_colwidth', 1000)\n",
    "\n"
   ]
  },
  {
   "cell_type": "code",
   "execution_count": null,
   "outputs": [],
   "source": [
    "file_list = sorted(os.listdir('datalib/mdecustom/'), reverse=True)\n",
    "print(\"Current Rule List: \" , file_list[1])\n",
    "print(\"Prior Rule List: \" , file_list[2])"
   ],
   "metadata": {
    "collapsed": false,
    "pycharm": {
     "name": "#%%\n"
    }
   }
  },
  {
   "cell_type": "code",
   "execution_count": null,
   "outputs": [],
   "source": [
    "current_data_df = pd.read_csv('datalib/mdecustom/' + str(file_list[1]), index_col='id')\n",
    "prior_data_df = pd.read_csv('datalib/mdecustom/' + str(file_list[2]), index_col='id')"
   ],
   "metadata": {
    "collapsed": false,
    "pycharm": {
     "name": "#%%\n"
    }
   }
  },
  {
   "cell_type": "markdown",
   "source": [
    "## Check the Rule Count\n",
    "\n",
    "> - This check will let you know if you need to validate any adds or removes"
   ],
   "metadata": {
    "collapsed": false,
    "pycharm": {
     "name": "#%% md\n"
    }
   }
  },
  {
   "cell_type": "code",
   "execution_count": null,
   "outputs": [],
   "source": [
    "print(\"Current Rule Count: \" + str(len(current_data_df)))\n",
    "print(\"Prior Rule Count: \" + str(len(prior_data_df)))"
   ],
   "metadata": {
    "collapsed": false,
    "pycharm": {
     "name": "#%%\n"
    }
   }
  },
  {
   "cell_type": "markdown",
   "source": [
    "## Look at Rule Changes Last 14 Days"
   ],
   "metadata": {
    "collapsed": false,
    "pycharm": {
     "name": "#%% md\n"
    }
   }
  },
  {
   "cell_type": "code",
   "execution_count": null,
   "outputs": [],
   "source": [
    "current_data_df['lastUpdatedTime'] = pd.to_datetime(current_data_df['lastUpdatedTime'])\n",
    "today = datetime.utcnow().timetuple().tm_yday\n",
    "current_data_df['doy'] = current_data_df['lastUpdatedTime'].dt.dayofyear\n",
    "change_df = current_data_df.loc[today - current_data_df['doy'] <= 14]\n",
    "print(\"Rule Changes Last 14 Days\")\n",
    "print(\"###########################\")\n",
    "change_df[['lastUpdatedTime' , 'ruleName']]"
   ],
   "metadata": {
    "collapsed": false,
    "pycharm": {
     "name": "#%%\n"
    }
   }
  },
  {
   "cell_type": "code",
   "execution_count": null,
   "outputs": [],
   "source": [
    "current_data_df['creationTime'] = pd.to_datetime(current_data_df['creationTime'])\n",
    "today = datetime.utcnow().timetuple().tm_yday\n",
    "current_data_df['doy'] = current_data_df['creationTime'].dt.dayofyear\n",
    "current_data_df['year'] = current_data_df['creationTime'].dt.year\n",
    "new_df = current_data_df.loc[today - current_data_df['doy'] <= 14]\n",
    "new_df = new_df.loc[new_df['year'] == datetime.now().year]\n",
    "print(\"Rule Creations Last 14 Days\")\n",
    "print(\"###########################\")\n",
    "new_df[['creationTime' , 'ruleName']]"
   ],
   "metadata": {
    "collapsed": false,
    "pycharm": {
     "name": "#%%\n"
    }
   }
  },
  {
   "cell_type": "markdown",
   "source": [
    "## Diff Checks"
   ],
   "metadata": {
    "collapsed": false,
    "pycharm": {
     "name": "#%% md\n"
    }
   }
  },
  {
   "cell_type": "code",
   "execution_count": null,
   "outputs": [],
   "source": [
    "diff_a_df = current_data_df[['ruleName', 'alertTitle', 'queryText', 'isEnabled', 'alertSeverity', 'alertCategory', 'alertSeverity', 'mitreTechniques']]\n",
    "diff_b_df = prior_data_df[['ruleName', 'alertTitle', 'queryText', 'isEnabled', 'alertSeverity', 'alertCategory', 'alertSeverity', 'mitreTechniques']]\n",
    "\n",
    "combo_df = pd.concat([diff_a_df, diff_b_df])\n",
    "diff_df = combo_df.drop_duplicates(keep=False)\n",
    "\n",
    "diff_df"
   ],
   "metadata": {
    "collapsed": false,
    "pycharm": {
     "name": "#%%\n"
    }
   }
  },
  {
   "cell_type": "markdown",
   "source": [
    "## Config Check\n",
    "> - Check Enabled\n",
    "> - Check Informational\n",
    "> - Alert Title not starts with SOC"
   ],
   "metadata": {
    "collapsed": false,
    "pycharm": {
     "name": "#%% md\n"
    }
   }
  },
  {
   "cell_type": "code",
   "execution_count": null,
   "outputs": [],
   "source": [
    "current_disabled_df = current_data_df.loc[current_data_df['isEnabled'] == False]\n",
    "print(\"Current Disabled Count: \" + str(len(current_disabled_df)))\n",
    "\n",
    "prior_disabled_df = prior_data_df.loc[prior_data_df['isEnabled'] == False]\n",
    "print(\"Prior Disabled Count: \" + str(len(prior_disabled_df)))\n",
    "\n",
    "print(\"Rule Set to Disabled\")\n",
    "print(\"#######################\")\n",
    "current_disabled_df[['ruleName', 'lastUpdatedTime']]"
   ],
   "metadata": {
    "collapsed": false,
    "pycharm": {
     "name": "#%%\n"
    }
   }
  },
  {
   "cell_type": "code",
   "execution_count": null,
   "outputs": [],
   "source": [
    "current_info_df = current_data_df.loc[current_data_df['alertSeverity'] == 'Informational']\n",
    "print(\"Current Info Count: \" + str(len(current_info_df)))\n",
    "\n",
    "prior_info_df = prior_data_df.loc[prior_data_df['alertSeverity'] == 'Informational']\n",
    "print(\"Prior Info Count: \" + str(len(prior_info_df)))\n",
    "\n",
    "print(\"Rule Set to Informational\")\n",
    "print(\"#######################\")\n",
    "current_info_df[['ruleName', 'lastUpdatedTime']]"
   ],
   "metadata": {
    "collapsed": false,
    "pycharm": {
     "name": "#%%\n"
    }
   }
  },
  {
   "cell_type": "code",
   "execution_count": null,
   "outputs": [],
   "source": [
    "current_soc_df = current_data_df.loc[(current_data_df['alertTitle'].str.startswith('SOC')) |\n",
    "                                     (current_data_df['alertTitle'].str.startswith('SIRT'))\n",
    "                                     == False]\n",
    "print(\"Current Info Count: \" + str(len(current_soc_df)))\n",
    "\n",
    "prior_soc_df = prior_data_df.loc[(prior_data_df['alertTitle'].str.startswith('SOC')) |\n",
    "                                 (prior_data_df['alertTitle'].str.startswith('SIRT'))\n",
    "                                 == False]\n",
    "print(\"Prior SOC Count: \" + str(len(prior_soc_df)))\n",
    "\n",
    "print(\"Not Going To SOC By Name\")\n",
    "print(\"#######################\")\n",
    "current_soc_df[['ruleName', 'lastUpdatedTime']]"
   ],
   "metadata": {
    "collapsed": false,
    "pycharm": {
     "name": "#%%\n"
    }
   }
  }
 ],
 "metadata": {
  "kernelspec": {
   "display_name": "Python 3",
   "language": "python",
   "name": "python3"
  },
  "language_info": {
   "codemirror_mode": {
    "name": "ipython",
    "version": 2
   },
   "file_extension": ".py",
   "mimetype": "text/x-python",
   "name": "python",
   "nbconvert_exporter": "python",
   "pygments_lexer": "ipython2",
   "version": "2.7.6"
  }
 },
 "nbformat": 4,
 "nbformat_minor": 0
}