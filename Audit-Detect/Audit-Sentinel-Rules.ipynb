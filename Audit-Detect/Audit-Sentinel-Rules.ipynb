{
 "cells": [
  {
   "cell_type": "code",
   "execution_count": null,
   "metadata": {
    "pycharm": {
     "name": "#%%\n"
    }
   },
   "outputs": [],
   "source": [
    "import os\n",
    "import pandas as pd\n",
    "from datetime import datetime\n",
    "\n",
    "pd.set_option('display.max_columns', None)\n",
    "pd.set_option('display.max_rows', None)\n",
    "pd.set_option('display.max_colwidth', 1000)"
   ]
  },
  {
   "cell_type": "code",
   "execution_count": null,
   "metadata": {
    "pycharm": {
     "name": "#%%\n"
    }
   },
   "outputs": [],
   "source": [
    "file_list = sorted(os.listdir('datalib/sentinel/'), reverse=True)\n",
    "print(\"Current Rule List: \" , file_list[1])\n",
    "print(\"Prior Rule List: \" , file_list[2])\n"
   ]
  },
  {
   "cell_type": "code",
   "execution_count": null,
   "metadata": {
    "pycharm": {
     "name": "#%%\n"
    }
   },
   "outputs": [],
   "source": [
    "current_data_df = pd.read_csv('datalib/sentinel/' + str(file_list[1]), index_col='name')\n",
    "prior_data_df = pd.read_csv('datalib/sentinel/' + str(file_list[2]), index_col='name')"
   ]
  },
  {
   "cell_type": "markdown",
   "metadata": {
    "pycharm": {
     "name": "#%% md\n"
    }
   },
   "source": [
    "## Check the Rule Count\n",
    "\n",
    "> - This check will let you know if you need to validate any adds or removes"
   ]
  },
  {
   "cell_type": "code",
   "execution_count": null,
   "metadata": {
    "pycharm": {
     "name": "#%%\n"
    }
   },
   "outputs": [],
   "source": [
    "print(\"Current Rule Count: \" + str(len(current_data_df)))\n",
    "print(\"Prior Rule Count: \" + str(len(prior_data_df)))"
   ]
  },
  {
   "cell_type": "markdown",
   "metadata": {
    "pycharm": {
     "name": "#%% md\n"
    }
   },
   "source": [
    "## Alert Per Result Not Set\n",
    "> - Very few Rules should not be set to AlertPerResult\n",
    "> - Majority of Sentinel Logic will be AlertPerResult"
   ]
  },
  {
   "cell_type": "code",
   "execution_count": null,
   "metadata": {
    "pycharm": {
     "name": "#%%\n"
    }
   },
   "outputs": [],
   "source": [
    "print(\"Alert Per Result Not Set\")\n",
    "print(\"#######################\")\n",
    "apr = current_data_df.loc[current_data_df['aggregationKind'] != 'AlertPerResult']\n",
    "apr['displayName']"
   ]
  },
  {
   "cell_type": "markdown",
   "metadata": {
    "pycharm": {
     "name": "#%% md\n"
    }
   },
   "source": [
    "## Quick Config Checks for Rules Not Going to Console\n",
    "> - Decrease/Increase in counts\n",
    "> - Setting the rule to disabled\n",
    "> - Setting the rule to informational\n",
    "> - Setting the rule to alert only and not setting Incident Creation\n"
   ]
  },
  {
   "cell_type": "code",
   "execution_count": null,
   "metadata": {
    "pycharm": {
     "name": "#%%\n"
    }
   },
   "outputs": [],
   "source": [
    "current_disabled_df = current_data_df.loc[current_data_df['enabled'] == False]\n",
    "print(\"Current Disabled Count: \" + str(len(current_disabled_df)))\n",
    "\n",
    "prior_disabled_df = prior_data_df.loc[prior_data_df['enabled'] == False]\n",
    "print(\"Prior Disabled Count: \" + str(len(prior_disabled_df)))\n",
    "\n",
    "print(\"Rule Set to Disabled\")\n",
    "print(\"#######################\")\n",
    "current_disabled_df[['displayName', 'lastModifiedUtc']]"
   ]
  },
  {
   "cell_type": "code",
   "execution_count": null,
   "metadata": {
    "pycharm": {
     "name": "#%%\n"
    }
   },
   "outputs": [],
   "source": [
    "current_info_df = current_data_df.loc[current_data_df['severity'] == 'Informational']\n",
    "print(\"Current Info Count: \" + str(len(current_info_df)))\n",
    "\n",
    "prior_info_df = prior_data_df.loc[prior_data_df['severity'] == 'Informational']\n",
    "print(\"Prior Info Count: \" + str(len(prior_info_df)))\n",
    "\n",
    "print(\"Rule Severity Set to Informational\")\n",
    "print(\"#######################\")\n",
    "\n",
    "current_info_df[['displayName', 'lastModifiedUtc']]"
   ]
  },
  {
   "cell_type": "code",
   "execution_count": null,
   "metadata": {
    "pycharm": {
     "name": "#%%\n"
    }
   },
   "outputs": [],
   "source": [
    "current_incident_df = current_data_df.loc[current_data_df['createIncident'] == False]\n",
    "print(\"Current No Incident Count: \" + str(len(current_incident_df)))\n",
    "\n",
    "prior_incident_df = prior_data_df.loc[prior_data_df['createIncident'] == False]\n",
    "print(\"Prior No Incident Count: \" + str(len(prior_incident_df)))\n",
    "\n",
    "print(\"Incident Create Set to False\")\n",
    "print(\"#######################\")\n",
    "\n",
    "current_incident_df[['displayName', 'lastModifiedUtc']]"
   ]
  },
  {
   "cell_type": "markdown",
   "metadata": {
    "pycharm": {
     "name": "#%% md\n"
    }
   },
   "source": [
    "## Rule Changes Last 14 Days\n",
    "> - Spot check all rules that have changed"
   ]
  },
  {
   "cell_type": "code",
   "execution_count": null,
   "metadata": {
    "pycharm": {
     "name": "#%%\n"
    }
   },
   "outputs": [],
   "source": [
    "current_data_df['lastModifiedUtc'] = pd.to_datetime(current_data_df['lastModifiedUtc'])\n",
    "today = datetime.utcnow().timetuple().tm_yday\n",
    "current_data_df['doy'] = current_data_df['lastModifiedUtc'].dt.dayofyear\n",
    "change_df = current_data_df.loc[today - current_data_df['doy'] <= 14]\n",
    "print(\"Rule Changes Last 14 Days\")\n",
    "print(\"###########################\")\n",
    "change_df[['lastModifiedUtc' , 'displayName']]"
   ]
  },
  {
   "cell_type": "markdown",
   "metadata": {
    "pycharm": {
     "name": "#%% md\n"
    }
   },
   "source": [
    "## Diff Checks\n",
    "> - Check Specific Items\n"
   ]
  },
  {
   "cell_type": "code",
   "execution_count": null,
   "metadata": {
    "pycharm": {
     "name": "#%%\n"
    }
   },
   "outputs": [],
   "source": [
    "diff_a_df = current_data_df[['displayName', 'query', 'enabled', 'severity', 'createIncident']]\n",
    "diff_b_df = prior_data_df[['displayName', 'query', 'enabled', 'severity', 'createIncident']]\n",
    "\n",
    "\n",
    "combo_df = pd.concat([diff_a_df, diff_b_df])\n",
    "diff_df = combo_df.drop_duplicates(keep=False)\n",
    "\n",
    "diff_df"
   ]
  }
 ],
 "metadata": {
  "kernelspec": {
   "display_name": "Python 3 (ipykernel)",
   "language": "python",
   "name": "python3"
  },
  "language_info": {
   "codemirror_mode": {
    "name": "ipython",
    "version": 3
   },
   "file_extension": ".py",
   "mimetype": "text/x-python",
   "name": "python",
   "nbconvert_exporter": "python",
   "pygments_lexer": "ipython3",
   "version": "3.9.12"
  }
 },
 "nbformat": 4,
 "nbformat_minor": 1
}